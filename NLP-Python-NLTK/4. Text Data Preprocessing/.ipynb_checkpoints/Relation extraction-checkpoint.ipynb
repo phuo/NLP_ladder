{
 "cells": [
  {
   "cell_type": "markdown",
   "metadata": {},
   "source": [
    "<img src=\"../Pics/MLSb-T.png\" width=\"160\">\n",
    "<br><br>\n",
    "<center><u><H1>Relation extraction</H1></u></center>"
   ]
  },
  {
   "cell_type": "markdown",
   "metadata": {},
   "source": [
    "## Named-entity recognition(NER)"
   ]
  },
  {
   "cell_type": "code",
   "execution_count": 2,
   "metadata": {
    "collapsed": true
   },
   "outputs": [],
   "source": [
    "import nltk"
   ]
  },
  {
   "cell_type": "code",
   "execution_count": 5,
   "metadata": {
    "collapsed": false
   },
   "outputs": [],
   "source": [
    "f=open('../data/text_example.txt')\n",
    "text=f.read()"
   ]
  },
  {
   "cell_type": "code",
   "execution_count": 6,
   "metadata": {
    "collapsed": true
   },
   "outputs": [],
   "source": [
    "sentences = nltk.sent_tokenize(text)"
   ]
  },
  {
   "cell_type": "code",
   "execution_count": 7,
   "metadata": {
    "collapsed": true
   },
   "outputs": [],
   "source": [
    "tokenized_sentences = [nltk.word_tokenize(sentence) for sentence in sentences]"
   ]
  },
  {
   "cell_type": "code",
   "execution_count": 8,
   "metadata": {
    "collapsed": true
   },
   "outputs": [],
   "source": [
    "tagged_sentences = [nltk.pos_tag(sentence) for sentence in tokenized_sentences]"
   ]
  },
  {
   "cell_type": "code",
   "execution_count": 9,
   "metadata": {
    "collapsed": false
   },
   "outputs": [
    {
     "name": "stdout",
     "output_type": "stream",
     "text": [
      "(S\n",
      "  We/PRP\n",
      "  can/MD\n",
      "  judge/VB\n",
      "  our/PRP$\n",
      "  progress/NN\n",
      "  by/IN\n",
      "  the/DT\n",
      "  courage/NN\n",
      "  of/IN\n",
      "  our/PRP$\n",
      "  questions/NNS\n",
      "  and/CC\n",
      "  the/DT\n",
      "  depth/NN\n",
      "  of/IN\n",
      "  our/PRP$\n",
      "  answers/NNS\n",
      "  ,/,\n",
      "  our/PRP$\n",
      "  willingness/NN\n",
      "  to/TO\n",
      "  embrace/VB\n",
      "  what/WP\n",
      "  is/VBZ\n",
      "  true/JJ\n",
      "  rather/RB\n",
      "  than/IN\n",
      "  what/WP\n",
      "  feels/JJ\n",
      "  good/JJ\n",
      "  ./.)\n"
     ]
    }
   ],
   "source": [
    "for sent in tagged_sentences:\n",
    "    print(nltk.ne_chunk(sent))"
   ]
  },
  {
   "cell_type": "markdown",
   "metadata": {},
   "source": [
    "## Relation extraction:"
   ]
  },
  {
   "cell_type": "code",
   "execution_count": null,
   "metadata": {
    "collapsed": true
   },
   "outputs": [],
   "source": [
    "# Relation extraction is the process of extracting the different relationships\n",
    "# between different entities."
   ]
  },
  {
   "cell_type": "code",
   "execution_count": 10,
   "metadata": {
    "collapsed": true
   },
   "outputs": [],
   "source": [
    "import re"
   ]
  },
  {
   "cell_type": "code",
   "execution_count": 15,
   "metadata": {
    "collapsed": true
   },
   "outputs": [],
   "source": [
    "In = re.compile(r'.*\\bin\\b(?!\\b.+ing)')"
   ]
  },
  {
   "cell_type": "code",
   "execution_count": 16,
   "metadata": {
    "collapsed": false
   },
   "outputs": [
    {
     "name": "stdout",
     "output_type": "stream",
     "text": [
      "[ORG: u'WHYY'] u'in' [LOC: u'Philadelphia']\n",
      "[ORG: u'McGlashan &AMP; Sarrail'] u'firm in' [LOC: u'San Mateo']\n",
      "[ORG: u'Freedom Forum'] u'in' [LOC: u'Arlington']\n",
      "[ORG: u'Brookings Institution'] u', the research group in' [LOC: u'Washington']\n",
      "[ORG: u'Idealab'] u', a self-described business incubator based in' [LOC: u'Los Angeles']\n",
      "[ORG: u'Open Text'] u', based in' [LOC: u'Waterloo']\n",
      "[ORG: u'WGBH'] u'in' [LOC: u'Boston']\n",
      "[ORG: u'Bastille Opera'] u'in' [LOC: u'Paris']\n",
      "[ORG: u'Omnicom'] u'in' [LOC: u'New York']\n",
      "[ORG: u'DDB Needham'] u'in' [LOC: u'New York']\n",
      "[ORG: u'Kaplan Thaler Group'] u'in' [LOC: u'New York']\n",
      "[ORG: u'BBDO South'] u'in' [LOC: u'Atlanta']\n",
      "[ORG: u'Georgia-Pacific'] u'in' [LOC: u'Atlanta']\n"
     ]
    }
   ],
   "source": [
    "for doc in nltk.corpus.ieer.parsed_docs('NYT_19980315'):\n",
    "    for rel in nltk.sem.extract_rels('ORG','LOC', doc, corpus='ieer', pattern=In):\n",
    "        print(nltk.sem.rtuple(rel))"
   ]
  },
  {
   "cell_type": "markdown",
   "metadata": {},
   "source": [
    "## Reference: \n",
    "\n",
    "http://www.nltk.org/book/ch07.html"
   ]
  }
 ],
 "metadata": {
  "kernelspec": {
   "display_name": "Python [conda root]",
   "language": "python",
   "name": "conda-root-py"
  },
  "language_info": {
   "codemirror_mode": {
    "name": "ipython",
    "version": 2
   },
   "file_extension": ".py",
   "mimetype": "text/x-python",
   "name": "python",
   "nbconvert_exporter": "python",
   "pygments_lexer": "ipython2",
   "version": "2.7.13"
  }
 },
 "nbformat": 4,
 "nbformat_minor": 2
}
