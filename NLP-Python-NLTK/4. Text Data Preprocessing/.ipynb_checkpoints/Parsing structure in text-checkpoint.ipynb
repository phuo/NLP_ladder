{
 "cells": [
  {
   "cell_type": "markdown",
   "metadata": {},
   "source": [
    "<img src=\"../Pics/MLSb-T.png\" width=\"160\">\n",
    "<br><br>\n",
    "<center><u><H1>Parsing structure in text</H1></u></center>"
   ]
  },
  {
   "cell_type": "code",
   "execution_count": null,
   "metadata": {
    "collapsed": true
   },
   "outputs": [],
   "source": [
    "# A parser processes an input string by using a set of grammatical rules\n",
    "# and builds one or more rules that construct a grammar concept.\n",
    "# Grammar is a declarative specification of a well-formed sentence and\n",
    "# finally a parser is a procedural interpretation of grammar."
   ]
  },
  {
   "cell_type": "markdown",
   "metadata": {
    "collapsed": true
   },
   "source": [
    "## CFG: Context-free-grammar"
   ]
  },
  {
   "cell_type": "code",
   "execution_count": 3,
   "metadata": {
    "collapsed": true
   },
   "outputs": [],
   "source": [
    "#toy CFG\n",
    "from nltk import CFG\n",
    "import nltk"
   ]
  },
  {
   "cell_type": "code",
   "execution_count": 9,
   "metadata": {},
   "outputs": [],
   "source": [
    "toy_grammar = nltk.CFG.fromstring(\n",
    "\"\"\"\n",
    "    S -> NP VP  \n",
    "    VP -> V NP  \n",
    "    V -> \"eats\"| \"drinks\" \n",
    "    NP -> Det N\n",
    "    Det -> \"a\" | \"an\" | \"the\" \n",
    "    N -> \"president\" |\"Trump\"|\"orange\"| \"wine\" \n",
    "\"\"\")"
   ]
  },
  {
   "cell_type": "code",
   "execution_count": 10,
   "metadata": {
    "collapsed": true
   },
   "outputs": [],
   "source": [
    "# S indicate the entire sentence\n",
    "# VP is verb phrase the\n",
    "# V is verb\n",
    "# NP is noun phrase (chunk that has noun in it)\n",
    "# Det is determiner used in the sentences\n",
    "# N are nouns"
   ]
  },
  {
   "cell_type": "code",
   "execution_count": 11,
   "metadata": {},
   "outputs": [
    {
     "data": {
      "text/plain": [
       "[S -> NP VP,\n",
       " VP -> V NP,\n",
       " V -> 'eats',\n",
       " V -> 'drinks',\n",
       " NP -> Det N,\n",
       " Det -> 'a',\n",
       " Det -> 'an',\n",
       " Det -> 'the',\n",
       " N -> 'president',\n",
       " N -> 'Trump',\n",
       " N -> 'orange',\n",
       " N -> 'wine']"
      ]
     },
     "execution_count": 11,
     "metadata": {},
     "output_type": "execute_result"
    }
   ],
   "source": [
    "toy_grammar.productions()"
   ]
  },
  {
   "cell_type": "code",
   "execution_count": 12,
   "metadata": {
    "collapsed": true
   },
   "outputs": [],
   "source": [
    "#Examples: \n",
    "# president eats orange\n",
    "# Trump drinks wine\n",
    "# The same grammar can construct meaningless sentences such as:\n",
    "# orange eats wine or president drinks Trump"
   ]
  },
  {
   "cell_type": "markdown",
   "metadata": {},
   "source": [
    "## Regex parser"
   ]
  },
  {
   "cell_type": "code",
   "execution_count": 14,
   "metadata": {},
   "outputs": [],
   "source": [
    "from nltk.chunk.regexp import *\n",
    "chunk_rules = ChunkRule(\"<.*>+\",\"chunk everthing\")"
   ]
  },
  {
   "cell_type": "code",
   "execution_count": 15,
   "metadata": {
    "collapsed": true
   },
   "outputs": [],
   "source": [
    "reg_parser = RegexpParser('''\n",
    "NP : {<DT>? <JJ>* <NN>*}\n",
    "P : {<IN>}\n",
    "V : {<V.*>}\n",
    "PP : {<P> <NP>}\n",
    "VP : {<V> <NP|PP>*}\n",
    "''')"
   ]
  },
  {
   "cell_type": "code",
   "execution_count": 16,
   "metadata": {
    "collapsed": true
   },
   "outputs": [],
   "source": [
    "# NP\n",
    "# Preposition\n",
    "# Verb\n",
    "# PP -> P NP\n",
    "# VP -> V {NP|PP}*"
   ]
  },
  {
   "cell_type": "code",
   "execution_count": 17,
   "metadata": {
    "collapsed": true
   },
   "outputs": [],
   "source": [
    "test_ = \"Mr. Carl Sagan played a big role in the science disclosure\"\n",
    "test_pos = nltk.pos_tag(nltk.word_tokenize(test_))"
   ]
  },
  {
   "cell_type": "code",
   "execution_count": 18,
   "metadata": {
    "collapsed": true
   },
   "outputs": [],
   "source": [
    "_out = reg_parser.parse(test_pos)"
   ]
  },
  {
   "cell_type": "code",
   "execution_count": 19,
   "metadata": {},
   "outputs": [
    {
     "name": "stdout",
     "output_type": "stream",
     "text": [
      "(S\n",
      "  Mr./NNP\n",
      "  Carl/NNP\n",
      "  Sagan/NNP\n",
      "  (VP\n",
      "    (V played/VBD)\n",
      "    (NP a/DT big/JJ role/NN)\n",
      "    (PP (P in/IN) (NP the/DT science/NN disclosure/NN))))\n"
     ]
    }
   ],
   "source": [
    "print(_out)"
   ]
  },
  {
   "cell_type": "markdown",
   "metadata": {},
   "source": [
    "## Dependency parsing"
   ]
  },
  {
   "cell_type": "code",
   "execution_count": 20,
   "metadata": {
    "collapsed": true
   },
   "outputs": [],
   "source": [
    "#The concept is that each word is connected with each other by a directed link."
   ]
  },
  {
   "cell_type": "code",
   "execution_count": 21,
   "metadata": {
    "collapsed": true
   },
   "outputs": [],
   "source": [
    "#Stanford Parser\n",
    "from nltk.parse.stanford import StanfordParser"
   ]
  },
  {
   "cell_type": "code",
   "execution_count": 37,
   "metadata": {},
   "outputs": [],
   "source": [
    "jar = '../Resources/stanford-parser-full/stanford-parser.jar'\n",
    "model = '../Resources/stanford-parser-full/stanford-parser-3.8.0-models.jar'\n",
    "parser = StanfordParser(model, jar)\n",
    "output = parser.raw_parse_sents((\"This is english parse test\").split())"
   ]
  },
  {
   "cell_type": "code",
   "execution_count": 38,
   "metadata": {},
   "outputs": [
    {
     "name": "stdout",
     "output_type": "stream",
     "text": [
      "[Tree('ROOT', [Tree('FRAG', [Tree('NP', [Tree('DT', ['This'])])])]), Tree('ROOT', [Tree('FRAG', [Tree('VP', [Tree('VBZ', ['is'])])])]), Tree('ROOT', [Tree('S', [Tree('VP', [Tree('VB', ['english'])])])]), Tree('ROOT', [Tree('NP', [Tree('NN', ['parse'])])]), Tree('ROOT', [Tree('NP', [Tree('NN', ['test'])])])]\n"
     ]
    }
   ],
   "source": [
    "print([list(i)[0] for i in output])"
   ]
  },
  {
   "cell_type": "markdown",
   "metadata": {},
   "source": [
    "## Reference:\n",
    "\n",
    "https://nlp.stanford.edu/software/lex-parser.shtml"
   ]
  }
 ],
 "metadata": {
  "kernelspec": {
   "display_name": "Python [conda root]",
   "language": "python",
   "name": "conda-root-py"
  },
  "language_info": {
   "codemirror_mode": {
    "name": "ipython",
    "version": 2
   },
   "file_extension": ".py",
   "mimetype": "text/x-python",
   "name": "python",
   "nbconvert_exporter": "python",
   "pygments_lexer": "ipython2",
   "version": "2.7.13"
  }
 },
 "nbformat": 4,
 "nbformat_minor": 2
}
