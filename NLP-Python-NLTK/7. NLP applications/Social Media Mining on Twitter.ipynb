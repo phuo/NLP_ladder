{
 "cells": [
  {
   "cell_type": "markdown",
   "metadata": {},
   "source": [
    "<img src=\"../Pics/MLSb-T.png\" width=\"160\">\n",
    "<br><br>\n",
    "<center><u><H1>Social Media Mining on Twitter</H1></u></center>"
   ]
  },
  {
   "cell_type": "markdown",
   "metadata": {},
   "source": [
    "### Installation: pip install tweepy"
   ]
  },
  {
   "cell_type": "code",
   "execution_count": null,
   "metadata": {
    "collapsed": true
   },
   "outputs": [],
   "source": [
    "import tweepy\n",
    "import pandas as pd"
   ]
  },
  {
   "cell_type": "code",
   "execution_count": null,
   "metadata": {
    "collapsed": true
   },
   "outputs": [],
   "source": [
    "from tweepy import OAuthHandler"
   ]
  },
  {
   "cell_type": "code",
   "execution_count": null,
   "metadata": {
    "collapsed": true
   },
   "outputs": [],
   "source": [
    "access_token = \"438086723-HRf53SWKU7Yl2J90rit5PRRYyZM9fpo2fzFEcbdf\"\n",
    "access_token_secret = \"6ihIPn3yek69DZj3snDmhKhMYbIp7xVF7ilTYKWlFX2BJ\"\n",
    "consumer_key = \"gSWne3rqo3cCmADjCxrWupRRg\"\n",
    "consumer_secret = \"OD6Go5N5xc04cxH0hKiq2OmfkGQPfuxZOkjmgjUG37iNFQMnWu\""
   ]
  },
  {
   "cell_type": "markdown",
   "metadata": {},
   "source": [
    "## establish a connection"
   ]
  },
  {
   "cell_type": "code",
   "execution_count": null,
   "metadata": {
    "collapsed": true
   },
   "outputs": [],
   "source": [
    "auth = tweepy.auth.OAuthHandler(consumer_key, consumer_secret)\n",
    "auth.set_access_token(access_token, access_token_secret)"
   ]
  },
  {
   "cell_type": "code",
   "execution_count": null,
   "metadata": {
    "collapsed": true
   },
   "outputs": [],
   "source": [
    "api = tweepy.API(auth)"
   ]
  },
  {
   "cell_type": "code",
   "execution_count": null,
   "metadata": {
    "collapsed": true
   },
   "outputs": [],
   "source": [
    "# Example: Let's assume that you would like to know what is being said\n",
    "# about the iPhone X and its double camera feature. Let's pull the most\n",
    "# 10 posts."
   ]
  },
  {
   "cell_type": "code",
   "execution_count": null,
   "metadata": {
    "collapsed": true
   },
   "outputs": [],
   "source": [
    "fetched_tweets = api.search(q=['iphone X','camera'], result_type='recent', lang='en', count=10)"
   ]
  },
  {
   "cell_type": "markdown",
   "metadata": {},
   "source": [
    "## printing tweets"
   ]
  },
  {
   "cell_type": "code",
   "execution_count": null,
   "metadata": {},
   "outputs": [],
   "source": [
    "for tweet in fetched_tweets:\n",
    "    print('Tweet ID: ', tweet.id)\n",
    "    print('Tweet Text: ', tweet.text, '\\n')"
   ]
  },
  {
   "cell_type": "markdown",
   "metadata": {},
   "source": [
    "## now let's create a function to save required basic tweets into a dataframe"
   ]
  },
  {
   "cell_type": "code",
   "execution_count": null,
   "metadata": {},
   "outputs": [],
   "source": [
    "def tweet_df(tweets):\n",
    "    df = pd.DataFrame()\n",
    "    df['id'] = list(map(lambda tweet: tweet.id, tweets))\n",
    "    df['text'] = list(map(lambda tweet: tweet.text, tweets))\n",
    "    df['retweeted'] = list(map(lambda tweet: tweet.retweeted, tweets))\n",
    "    df['place'] = list(map(lambda tweet: tweet.user.location, tweets))\n",
    "    df['screen_name'] = list(map(lambda tweet: tweet.user.screen_name, tweets))\n",
    "    df['verified_user'] = list(map(lambda tweet: tweet.user.verified, tweets))\n",
    "    df['followers_count'] = list(map(lambda tweet: tweet.user.followers_count, tweets))\n",
    "    df['friends_count'] = list(map(lambda tweet: tweet.user.friends_count, tweets))\n",
    "    #popularity of user\n",
    "    df['friendship_coeff'] = list(map(lambda tweet: float(tweet.user.followers_count)/float(tweet.user.friends_count),tweets))\n",
    "    return df"
   ]
  },
  {
   "cell_type": "code",
   "execution_count": null,
   "metadata": {},
   "outputs": [],
   "source": [
    "df = tweet_df(fetched_tweets)\n",
    "df.head(10)"
   ]
  },
  {
   "cell_type": "markdown",
   "metadata": {},
   "source": [
    "## Extracting tweets based on screen name"
   ]
  },
  {
   "cell_type": "code",
   "execution_count": null,
   "metadata": {
    "collapsed": true
   },
   "outputs": [],
   "source": [
    "fetched_tweets_ = api.user_timeline(id='IphoneXreview', count=5)"
   ]
  },
  {
   "cell_type": "code",
   "execution_count": null,
   "metadata": {},
   "outputs": [],
   "source": [
    "for tweet in fetched_tweets_:\n",
    "    print('Tweet ID: ', tweet.id)\n",
    "    print('Tweet Text: ', tweet.text, '\\n')"
   ]
  },
  {
   "cell_type": "markdown",
   "metadata": {},
   "source": [
    "## References:\n",
    "\n",
    "https://apps.twitter.com\n",
    "\n",
    "http://tweepy.readthedocs.io/en/v3.5.0/\n",
    "\n",
    "http://tweepy.readthedocs.io/en/v3.5.0/getting_started.html#api"
   ]
  }
 ],
 "metadata": {
  "kernelspec": {
   "display_name": "Python [conda root]",
   "language": "python",
   "name": "conda-root-py"
  },
  "language_info": {
   "codemirror_mode": {
    "name": "ipython",
    "version": 2
   },
   "file_extension": ".py",
   "mimetype": "text/x-python",
   "name": "python",
   "nbconvert_exporter": "python",
   "pygments_lexer": "ipython2",
   "version": "2.7.13"
  }
 },
 "nbformat": 4,
 "nbformat_minor": 2
}
