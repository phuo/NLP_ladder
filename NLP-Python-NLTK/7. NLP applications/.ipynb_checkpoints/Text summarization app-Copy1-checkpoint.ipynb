{
 "cells": [
  {
   "cell_type": "markdown",
   "metadata": {},
   "source": [
    "<img src=\"../Pics/MLSb-T.png\" width=\"160\">\n",
    "<br><br>\n",
    "<center><u><H1>Text Summarization</H1></u></center>"
   ]
  },
  {
   "cell_type": "code",
   "execution_count": 2,
   "metadata": {
    "collapsed": true
   },
   "outputs": [],
   "source": [
    "import nltk\n",
    "from nltk.tokenize import sent_tokenize, word_tokenize\n",
    "from nltk.corpus import stopwords\n",
    "from collections import defaultdict\n",
    "from string import punctuation"
   ]
  },
  {
   "cell_type": "code",
   "execution_count": 3,
   "metadata": {},
   "outputs": [],
   "source": [
    "stopwords = set(stopwords.words('english')+list(punctuation))\n",
    "cut_min = 0.2\n",
    "cut_max = 0.8"
   ]
  },
  {
   "cell_type": "code",
   "execution_count": 4,
   "metadata": {
    "collapsed": true
   },
   "outputs": [],
   "source": [
    "def compute_frequencies(word_sent):\n",
    "    freq = defaultdict(int)\n",
    "    for s in word_sent:\n",
    "        for word in s:\n",
    "            if word not in stopwords:\n",
    "                freq[word] += 1\n",
    "    n = float(max(freq.values()))\n",
    "    for w in freq.keys():\n",
    "        freq[w] = freq[w]/n\n",
    "        if freq[w] >= cut_max or freq[w] <= cut_min:\n",
    "            del freq[w]\n",
    "    return freq        "
   ]
  },
  {
   "cell_type": "code",
   "execution_count": 5,
   "metadata": {
    "collapsed": true
   },
   "outputs": [],
   "source": [
    "def rank(ranking, n):\n",
    "    return sorted(ranking, key=ranking.get, reverse=True)[:n]"
   ]
  },
  {
   "cell_type": "code",
   "execution_count": 6,
   "metadata": {
    "collapsed": true
   },
   "outputs": [],
   "source": [
    "def summarize(text, n):\n",
    "    sents = sent_tokenize(text)\n",
    "    assert n <= len(sents)\n",
    "    word_sent = [word_tokenize(s.lower()) for s in sents]\n",
    "    freq = compute_frequencies(word_sent)\n",
    "    ranking = defaultdict(int)\n",
    "    for i, sent in enumerate(word_sent):\n",
    "        for w in sent:\n",
    "            if w in freq:\n",
    "                ranking[i] += freq[w]\n",
    "    sents_idx = rank(ranking, n)\n",
    "    return [sents[j] for j in sents_idx]"
   ]
  },
  {
   "cell_type": "code",
   "execution_count": 7,
   "metadata": {},
   "outputs": [
    {
     "data": {
      "text/plain": [
       "\"What an astonishing thing a book is. It's a flat object made from a tree with flexible parts on which are imprinted lots of funny dark squiggles. But one glance at it and you're inside the mind of another person, maybe somebody dead for thousands of years. Across the millennia, an author is speaking clearly and silently inside your head, directly to you. Writing is perhaps the greatest of human inventions, binding together people who never knew each other, citizens of distant epochs. Books break the shackles of time. A book is proof that humans are capable of working magic.\""
      ]
     },
     "execution_count": 7,
     "metadata": {},
     "output_type": "execute_result"
    }
   ],
   "source": [
    "f=open('../data/carl_sagan_quote.txt')\n",
    "text=f.read()\n",
    "text"
   ]
  },
  {
   "cell_type": "code",
   "execution_count": 8,
   "metadata": {},
   "outputs": [
    {
     "data": {
      "text/plain": [
       "['Writing is perhaps the greatest of human inventions, binding together people who never knew each other, citizens of distant epochs.',\n",
       " \"It's a flat object made from a tree with flexible parts on which are imprinted lots of funny dark squiggles.\"]"
      ]
     },
     "execution_count": 8,
     "metadata": {},
     "output_type": "execute_result"
    }
   ],
   "source": [
    "summarize(text, 2)"
   ]
  },
  {
   "cell_type": "markdown",
   "metadata": {},
   "source": [
    "## Another approach"
   ]
  },
  {
   "cell_type": "code",
   "execution_count": 9,
   "metadata": {
    "collapsed": true
   },
   "outputs": [],
   "source": [
    "results = []"
   ]
  },
  {
   "cell_type": "code",
   "execution_count": 10,
   "metadata": {},
   "outputs": [],
   "source": [
    "for number, sentence in enumerate(nltk.sent_tokenize(text)):\n",
    "    number_tokens=len(nltk.word_tokenize(sentence))\n",
    "    tagged=nltk.pos_tag(nltk.word_tokenize(sentence))\n",
    "    number_nouns=len([word for word, pos in tagged if pos in [\"NN\",\"NNP\"]])\n",
    "    #use NER to tag the named entities\n",
    "    ners=nltk.ne_chunk(nltk.pos_tag(nltk.word_tokenize(sentence)),binary=False)\n",
    "    number_ners=len([chunk for chunk in ners if hasattr(chunk,'node')])\n",
    "    score=(number_ners+number_nouns)/float(number_tokens)\n",
    "    results.append((number,score,sentence))"
   ]
  },
  {
   "cell_type": "code",
   "execution_count": 11,
   "metadata": {},
   "outputs": [
    {
     "name": "stdout",
     "output_type": "stream",
     "text": [
      "[(0, 0.25, 'What an astonishing thing a book is.'), (1, 0.13636363636363635, \"It's a flat object made from a tree with flexible parts on which are imprinted lots of funny dark squiggles.\"), (2, 0.17391304347826086, \"But one glance at it and you're inside the mind of another person, maybe somebody dead for thousands of years.\"), (3, 0.15789473684210525, 'Across the millennia, an author is speaking clearly and silently inside your head, directly to you.'), (4, 0.043478260869565216, 'Writing is perhaps the greatest of human inventions, binding together people who never knew each other, citizens of distant epochs.'), (5, 0.2857142857142857, 'Books break the shackles of time.'), (6, 0.16666666666666666, 'A book is proof that humans are capable of working magic.')]\n"
     ]
    }
   ],
   "source": [
    "print(results)"
   ]
  },
  {
   "cell_type": "code",
   "execution_count": 12,
   "metadata": {},
   "outputs": [
    {
     "name": "stdout",
     "output_type": "stream",
     "text": [
      "Books break the shackles of time.\n",
      "What an astonishing thing a book is.\n",
      "But one glance at it and you're inside the mind of another person, maybe somebody dead for thousands of years.\n",
      "A book is proof that humans are capable of working magic.\n",
      "Across the millennia, an author is speaking clearly and silently inside your head, directly to you.\n",
      "It's a flat object made from a tree with flexible parts on which are imprinted lots of funny dark squiggles.\n",
      "Writing is perhaps the greatest of human inventions, binding together people who never knew each other, citizens of distant epochs.\n"
     ]
    }
   ],
   "source": [
    "# sorting the tuple based on the score in descending order\n",
    "for i in sorted(results, key=lambda x: x[1], reverse=True):\n",
    "    print(i[2])"
   ]
  },
  {
   "cell_type": "markdown",
   "metadata": {
    "collapsed": true
   },
   "source": [
    "## Reference:\n",
    "\n",
    "http://www.nltk.org/api/nltk.tokenize.html\n",
    "\n",
    "http://www.nltk.org/book/ch02.html\n",
    "\n",
    "http://www.nltk.org/book/ch05.html\n",
    "\n",
    "http://www.nltk.org/book/ch07.html"
   ]
  }
 ],
 "metadata": {
  "kernelspec": {
   "display_name": "Python [conda root]",
   "language": "python",
   "name": "conda-root-py"
  },
  "language_info": {
   "codemirror_mode": {
    "name": "ipython",
    "version": 2
   },
   "file_extension": ".py",
   "mimetype": "text/x-python",
   "name": "python",
   "nbconvert_exporter": "python",
   "pygments_lexer": "ipython2",
   "version": "2.7.13"
  }
 },
 "nbformat": 4,
 "nbformat_minor": 2
}
