{
 "cells": [
  {
   "cell_type": "markdown",
   "metadata": {},
   "source": [
    "<img src=\"../Pics/MLSb-T.png\" width=\"160\">\n",
    "<br><br>\n",
    "<center><u><H1>Text Summarization app</H1></u></center>"
   ]
  },
  {
   "cell_type": "code",
   "execution_count": null,
   "metadata": {
    "collapsed": true
   },
   "outputs": [],
   "source": [
    "import nltk\n",
    "from nltk.tokenize import sent_tokenize, word_tokenize"
   ]
  },
  {
   "cell_type": "code",
   "execution_count": null,
   "metadata": {},
   "outputs": [],
   "source": [
    "text = open('../Data/cern.txt').read()\n",
    "text"
   ]
  },
  {
   "cell_type": "code",
   "execution_count": null,
   "metadata": {
    "collapsed": true
   },
   "outputs": [],
   "source": [
    "def summarization(text):\n",
    "    results = []\n",
    "    for number, sentence in enumerate(sent_tokenize(text)):\n",
    "        number_tokens=len(word_tokenize(sentence))\n",
    "        tagged=nltk.pos_tag(word_tokenize(sentence))\n",
    "        number_nouns=len([word for word, pos in tagged if pos in [\"NN\",\"NNP\"]])\n",
    "        #use NER to tag the named entities\n",
    "        ners=nltk.ne_chunk(nltk.pos_tag(word_tokenize(sentence)),binary=False)\n",
    "        number_ners=len([chunk for chunk in ners if hasattr(chunk,'node')])\n",
    "        score=(number_ners+number_nouns)/float(number_tokens)\n",
    "        results.append((number,score,sentence))\n",
    "    return results   "
   ]
  },
  {
   "cell_type": "code",
   "execution_count": null,
   "metadata": {},
   "outputs": [],
   "source": [
    "summ = summarization(text)\n",
    "summ"
   ]
  },
  {
   "cell_type": "code",
   "execution_count": null,
   "metadata": {},
   "outputs": [],
   "source": [
    "# sorting the tuple based on the score in descending order\n",
    "for i in sorted(summ, key=lambda x: x[1], reverse=True):\n",
    "    print(i[2])"
   ]
  },
  {
   "cell_type": "markdown",
   "metadata": {
    "collapsed": true
   },
   "source": [
    "## References:\n",
    "\n",
    "http://www.nltk.org/api/nltk.tokenize.html\n",
    "\n",
    "http://www.nltk.org/book/ch02.html\n",
    "\n",
    "http://www.nltk.org/book/ch05.html\n",
    "\n",
    "http://www.nltk.org/book/ch07.html"
   ]
  }
 ],
 "metadata": {
  "kernelspec": {
   "display_name": "Python [conda root]",
   "language": "python",
   "name": "conda-root-py"
  },
  "language_info": {
   "codemirror_mode": {
    "name": "ipython",
    "version": 2
   },
   "file_extension": ".py",
   "mimetype": "text/x-python",
   "name": "python",
   "nbconvert_exporter": "python",
   "pygments_lexer": "ipython2",
   "version": "2.7.13"
  }
 },
 "nbformat": 4,
 "nbformat_minor": 2
}
