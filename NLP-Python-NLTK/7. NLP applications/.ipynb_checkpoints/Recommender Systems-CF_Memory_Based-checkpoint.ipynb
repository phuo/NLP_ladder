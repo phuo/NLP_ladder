{
 "cells": [
  {
   "cell_type": "markdown",
   "metadata": {},
   "source": [
    "<img src=\"../Pics/MLSb-T.png\" width=\"160\">\n",
    "<br><br>\n",
    "<center><u><H1>Collaborative Filtering: Memory Based</H1></u></center>"
   ]
  },
  {
   "cell_type": "code",
   "execution_count": 1,
   "metadata": {
    "collapsed": false
   },
   "outputs": [],
   "source": [
    "import pandas as pd\n",
    "import numpy as np\n",
    "import matplotlib.pyplot as plt\n",
    "%matplotlib inline"
   ]
  },
  {
   "cell_type": "code",
   "execution_count": 2,
   "metadata": {
    "collapsed": false
   },
   "outputs": [
    {
     "data": {
      "text/html": [
       "<div>\n",
       "<table border=\"1\" class=\"dataframe\">\n",
       "  <thead>\n",
       "    <tr style=\"text-align: right;\">\n",
       "      <th></th>\n",
       "      <th>user_id</th>\n",
       "      <th>item_id</th>\n",
       "      <th>rating</th>\n",
       "      <th>timestamp</th>\n",
       "    </tr>\n",
       "  </thead>\n",
       "  <tbody>\n",
       "    <tr>\n",
       "      <th>0</th>\n",
       "      <td>196</td>\n",
       "      <td>242</td>\n",
       "      <td>3</td>\n",
       "      <td>881250949</td>\n",
       "    </tr>\n",
       "    <tr>\n",
       "      <th>1</th>\n",
       "      <td>186</td>\n",
       "      <td>302</td>\n",
       "      <td>3</td>\n",
       "      <td>891717742</td>\n",
       "    </tr>\n",
       "    <tr>\n",
       "      <th>2</th>\n",
       "      <td>22</td>\n",
       "      <td>377</td>\n",
       "      <td>1</td>\n",
       "      <td>878887116</td>\n",
       "    </tr>\n",
       "    <tr>\n",
       "      <th>3</th>\n",
       "      <td>244</td>\n",
       "      <td>51</td>\n",
       "      <td>2</td>\n",
       "      <td>880606923</td>\n",
       "    </tr>\n",
       "    <tr>\n",
       "      <th>4</th>\n",
       "      <td>166</td>\n",
       "      <td>346</td>\n",
       "      <td>1</td>\n",
       "      <td>886397596</td>\n",
       "    </tr>\n",
       "  </tbody>\n",
       "</table>\n",
       "</div>"
      ],
      "text/plain": [
       "   user_id  item_id  rating  timestamp\n",
       "0      196      242       3  881250949\n",
       "1      186      302       3  891717742\n",
       "2       22      377       1  878887116\n",
       "3      244       51       2  880606923\n",
       "4      166      346       1  886397596"
      ]
     },
     "execution_count": 2,
     "metadata": {},
     "output_type": "execute_result"
    }
   ],
   "source": [
    "header = ['user_id', 'item_id', 'rating', 'timestamp']\n",
    "df_movies = pd.read_csv('../Data/ml-100k/u.data', sep='\\t', names=header)\n",
    "df_movies.head()"
   ]
  },
  {
   "cell_type": "markdown",
   "metadata": {},
   "source": [
    "## Data exploration:"
   ]
  },
  {
   "cell_type": "code",
   "execution_count": 3,
   "metadata": {
    "collapsed": false
   },
   "outputs": [
    {
     "name": "stdout",
     "output_type": "stream",
     "text": [
      "943\n"
     ]
    }
   ],
   "source": [
    "n_users = df_movies.user_id.unique().shape[0]\n",
    "print(n_users)"
   ]
  },
  {
   "cell_type": "code",
   "execution_count": 5,
   "metadata": {
    "collapsed": false
   },
   "outputs": [
    {
     "name": "stdout",
     "output_type": "stream",
     "text": [
      "1682\n"
     ]
    }
   ],
   "source": [
    "n_items = df_movies.item_id.unique().shape[0]\n",
    "print(n_items)"
   ]
  },
  {
   "cell_type": "code",
   "execution_count": 6,
   "metadata": {
    "collapsed": false
   },
   "outputs": [
    {
     "data": {
      "text/plain": [
       "(array([  6110.,      0.,  11370.,      0.,      0.,  27145.,      0.,\n",
       "         34174.,      0.,  21201.]),\n",
       " array([ 1. ,  1.4,  1.8,  2.2,  2.6,  3. ,  3.4,  3.8,  4.2,  4.6,  5. ]),\n",
       " <a list of 10 Patch objects>)"
      ]
     },
     "execution_count": 6,
     "metadata": {},
     "output_type": "execute_result"
    },
    {
     "data": {
      "image/png": "[encoded data removed]",
      "text/plain": [
       "<matplotlib.figure.Figure at 0xa9a6e80>"
      ]
     },
     "metadata": {},
     "output_type": "display_data"
    }
   ],
   "source": [
    "plt.hist(df_movies['rating'])"
   ]
  },
  {
   "cell_type": "code",
   "execution_count": 7,
   "metadata": {
    "collapsed": false
   },
   "outputs": [
    {
     "data": {
      "text/plain": [
       "rating\n",
       "1     6110\n",
       "2    11370\n",
       "3    27145\n",
       "4    34174\n",
       "5    21201\n",
       "Name: user_id, dtype: int64"
      ]
     },
     "execution_count": 7,
     "metadata": {},
     "output_type": "execute_result"
    }
   ],
   "source": [
    "df_movies.groupby(['rating'])['user_id'].count()"
   ]
  },
  {
   "cell_type": "code",
   "execution_count": 9,
   "metadata": {
    "collapsed": false
   },
   "outputs": [
    {
     "data": {
      "text/plain": [
       "array([[ 5.,  3.,  4., ...,  0.,  0.,  0.],\n",
       "       [ 4.,  0.,  0., ...,  0.,  0.,  0.],\n",
       "       [ 0.,  0.,  0., ...,  0.,  0.,  0.],\n",
       "       ..., \n",
       "       [ 0.,  0.,  0., ...,  0.,  0.,  0.],\n",
       "       [ 0.,  0.,  0., ...,  0.,  0.,  0.],\n",
       "       [ 0.,  0.,  0., ...,  0.,  0.,  0.]])"
      ]
     },
     "execution_count": 9,
     "metadata": {},
     "output_type": "execute_result"
    }
   ],
   "source": [
    "_ratings = np.zeros((n_users, n_items))\n",
    "for row in df_movies.itertuples():\n",
    "    _ratings[row[1]-1, row[2]-1] = row[3]\n",
    "_ratings"
   ]
  },
  {
   "cell_type": "code",
   "execution_count": 11,
   "metadata": {
    "collapsed": false
   },
   "outputs": [
    {
     "data": {
      "text/html": [
       "<div>\n",
       "<table border=\"1\" class=\"dataframe\">\n",
       "  <thead>\n",
       "    <tr style=\"text-align: right;\">\n",
       "      <th>item_id</th>\n",
       "      <th>1</th>\n",
       "      <th>2</th>\n",
       "      <th>3</th>\n",
       "      <th>4</th>\n",
       "      <th>5</th>\n",
       "      <th>6</th>\n",
       "      <th>7</th>\n",
       "      <th>8</th>\n",
       "      <th>9</th>\n",
       "      <th>10</th>\n",
       "      <th>...</th>\n",
       "      <th>1673</th>\n",
       "      <th>1674</th>\n",
       "      <th>1675</th>\n",
       "      <th>1676</th>\n",
       "      <th>1677</th>\n",
       "      <th>1678</th>\n",
       "      <th>1679</th>\n",
       "      <th>1680</th>\n",
       "      <th>1681</th>\n",
       "      <th>1682</th>\n",
       "    </tr>\n",
       "    <tr>\n",
       "      <th>user_id</th>\n",
       "      <th></th>\n",
       "      <th></th>\n",
       "      <th></th>\n",
       "      <th></th>\n",
       "      <th></th>\n",
       "      <th></th>\n",
       "      <th></th>\n",
       "      <th></th>\n",
       "      <th></th>\n",
       "      <th></th>\n",
       "      <th></th>\n",
       "      <th></th>\n",
       "      <th></th>\n",
       "      <th></th>\n",
       "      <th></th>\n",
       "      <th></th>\n",
       "      <th></th>\n",
       "      <th></th>\n",
       "      <th></th>\n",
       "      <th></th>\n",
       "      <th></th>\n",
       "    </tr>\n",
       "  </thead>\n",
       "  <tbody>\n",
       "    <tr>\n",
       "      <th>1</th>\n",
       "      <td>5.0</td>\n",
       "      <td>3.0</td>\n",
       "      <td>4.0</td>\n",
       "      <td>3.0</td>\n",
       "      <td>3.0</td>\n",
       "      <td>5.0</td>\n",
       "      <td>4.0</td>\n",
       "      <td>1.0</td>\n",
       "      <td>5.0</td>\n",
       "      <td>3.0</td>\n",
       "      <td>...</td>\n",
       "      <td>0.0</td>\n",
       "      <td>0.0</td>\n",
       "      <td>0.0</td>\n",
       "      <td>0.0</td>\n",
       "      <td>0.0</td>\n",
       "      <td>0.0</td>\n",
       "      <td>0.0</td>\n",
       "      <td>0.0</td>\n",
       "      <td>0.0</td>\n",
       "      <td>0.0</td>\n",
       "    </tr>\n",
       "    <tr>\n",
       "      <th>2</th>\n",
       "      <td>4.0</td>\n",
       "      <td>0.0</td>\n",
       "      <td>0.0</td>\n",
       "      <td>0.0</td>\n",
       "      <td>0.0</td>\n",
       "      <td>0.0</td>\n",
       "      <td>0.0</td>\n",
       "      <td>0.0</td>\n",
       "      <td>0.0</td>\n",
       "      <td>2.0</td>\n",
       "      <td>...</td>\n",
       "      <td>0.0</td>\n",
       "      <td>0.0</td>\n",
       "      <td>0.0</td>\n",
       "      <td>0.0</td>\n",
       "      <td>0.0</td>\n",
       "      <td>0.0</td>\n",
       "      <td>0.0</td>\n",
       "      <td>0.0</td>\n",
       "      <td>0.0</td>\n",
       "      <td>0.0</td>\n",
       "    </tr>\n",
       "    <tr>\n",
       "      <th>3</th>\n",
       "      <td>0.0</td>\n",
       "      <td>0.0</td>\n",
       "      <td>0.0</td>\n",
       "      <td>0.0</td>\n",
       "      <td>0.0</td>\n",
       "      <td>0.0</td>\n",
       "      <td>0.0</td>\n",
       "      <td>0.0</td>\n",
       "      <td>0.0</td>\n",
       "      <td>0.0</td>\n",
       "      <td>...</td>\n",
       "      <td>0.0</td>\n",
       "      <td>0.0</td>\n",
       "      <td>0.0</td>\n",
       "      <td>0.0</td>\n",
       "      <td>0.0</td>\n",
       "      <td>0.0</td>\n",
       "      <td>0.0</td>\n",
       "      <td>0.0</td>\n",
       "      <td>0.0</td>\n",
       "      <td>0.0</td>\n",
       "    </tr>\n",
       "    <tr>\n",
       "      <th>4</th>\n",
       "      <td>0.0</td>\n",
       "      <td>0.0</td>\n",
       "      <td>0.0</td>\n",
       "      <td>0.0</td>\n",
       "      <td>0.0</td>\n",
       "      <td>0.0</td>\n",
       "      <td>0.0</td>\n",
       "      <td>0.0</td>\n",
       "      <td>0.0</td>\n",
       "      <td>0.0</td>\n",
       "      <td>...</td>\n",
       "      <td>0.0</td>\n",
       "      <td>0.0</td>\n",
       "      <td>0.0</td>\n",
       "      <td>0.0</td>\n",
       "      <td>0.0</td>\n",
       "      <td>0.0</td>\n",
       "      <td>0.0</td>\n",
       "      <td>0.0</td>\n",
       "      <td>0.0</td>\n",
       "      <td>0.0</td>\n",
       "    </tr>\n",
       "    <tr>\n",
       "      <th>5</th>\n",
       "      <td>4.0</td>\n",
       "      <td>3.0</td>\n",
       "      <td>0.0</td>\n",
       "      <td>0.0</td>\n",
       "      <td>0.0</td>\n",
       "      <td>0.0</td>\n",
       "      <td>0.0</td>\n",
       "      <td>0.0</td>\n",
       "      <td>0.0</td>\n",
       "      <td>0.0</td>\n",
       "      <td>...</td>\n",
       "      <td>0.0</td>\n",
       "      <td>0.0</td>\n",
       "      <td>0.0</td>\n",
       "      <td>0.0</td>\n",
       "      <td>0.0</td>\n",
       "      <td>0.0</td>\n",
       "      <td>0.0</td>\n",
       "      <td>0.0</td>\n",
       "      <td>0.0</td>\n",
       "      <td>0.0</td>\n",
       "    </tr>\n",
       "    <tr>\n",
       "      <th>6</th>\n",
       "      <td>4.0</td>\n",
       "      <td>0.0</td>\n",
       "      <td>0.0</td>\n",
       "      <td>0.0</td>\n",
       "      <td>0.0</td>\n",
       "      <td>0.0</td>\n",
       "      <td>2.0</td>\n",
       "      <td>4.0</td>\n",
       "      <td>4.0</td>\n",
       "      <td>0.0</td>\n",
       "      <td>...</td>\n",
       "      <td>0.0</td>\n",
       "      <td>0.0</td>\n",
       "      <td>0.0</td>\n",
       "      <td>0.0</td>\n",
       "      <td>0.0</td>\n",
       "      <td>0.0</td>\n",
       "      <td>0.0</td>\n",
       "      <td>0.0</td>\n",
       "      <td>0.0</td>\n",
       "      <td>0.0</td>\n",
       "    </tr>\n",
       "    <tr>\n",
       "      <th>7</th>\n",
       "      <td>0.0</td>\n",
       "      <td>0.0</td>\n",
       "      <td>0.0</td>\n",
       "      <td>5.0</td>\n",
       "      <td>0.0</td>\n",
       "      <td>0.0</td>\n",
       "      <td>5.0</td>\n",
       "      <td>5.0</td>\n",
       "      <td>5.0</td>\n",
       "      <td>4.0</td>\n",
       "      <td>...</td>\n",
       "      <td>0.0</td>\n",
       "      <td>0.0</td>\n",
       "      <td>0.0</td>\n",
       "      <td>0.0</td>\n",
       "      <td>0.0</td>\n",
       "      <td>0.0</td>\n",
       "      <td>0.0</td>\n",
       "      <td>0.0</td>\n",
       "      <td>0.0</td>\n",
       "      <td>0.0</td>\n",
       "    </tr>\n",
       "    <tr>\n",
       "      <th>8</th>\n",
       "      <td>0.0</td>\n",
       "      <td>0.0</td>\n",
       "      <td>0.0</td>\n",
       "      <td>0.0</td>\n",
       "      <td>0.0</td>\n",
       "      <td>0.0</td>\n",
       "      <td>3.0</td>\n",
       "      <td>0.0</td>\n",
       "      <td>0.0</td>\n",
       "      <td>0.0</td>\n",
       "      <td>...</td>\n",
       "      <td>0.0</td>\n",
       "      <td>0.0</td>\n",
       "      <td>0.0</td>\n",
       "      <td>0.0</td>\n",
       "      <td>0.0</td>\n",
       "      <td>0.0</td>\n",
       "      <td>0.0</td>\n",
       "      <td>0.0</td>\n",
       "      <td>0.0</td>\n",
       "      <td>0.0</td>\n",
       "    </tr>\n",
       "    <tr>\n",
       "      <th>9</th>\n",
       "      <td>0.0</td>\n",
       "      <td>0.0</td>\n",
       "      <td>0.0</td>\n",
       "      <td>0.0</td>\n",
       "      <td>0.0</td>\n",
       "      <td>5.0</td>\n",
       "      <td>4.0</td>\n",
       "      <td>0.0</td>\n",
       "      <td>0.0</td>\n",
       "      <td>0.0</td>\n",
       "      <td>...</td>\n",
       "      <td>0.0</td>\n",
       "      <td>0.0</td>\n",
       "      <td>0.0</td>\n",
       "      <td>0.0</td>\n",
       "      <td>0.0</td>\n",
       "      <td>0.0</td>\n",
       "      <td>0.0</td>\n",
       "      <td>0.0</td>\n",
       "      <td>0.0</td>\n",
       "      <td>0.0</td>\n",
       "    </tr>\n",
       "    <tr>\n",
       "      <th>10</th>\n",
       "      <td>4.0</td>\n",
       "      <td>0.0</td>\n",
       "      <td>0.0</td>\n",
       "      <td>4.0</td>\n",
       "      <td>0.0</td>\n",
       "      <td>0.0</td>\n",
       "      <td>4.0</td>\n",
       "      <td>0.0</td>\n",
       "      <td>4.0</td>\n",
       "      <td>0.0</td>\n",
       "      <td>...</td>\n",
       "      <td>0.0</td>\n",
       "      <td>0.0</td>\n",
       "      <td>0.0</td>\n",
       "      <td>0.0</td>\n",
       "      <td>0.0</td>\n",
       "      <td>0.0</td>\n",
       "      <td>0.0</td>\n",
       "      <td>0.0</td>\n",
       "      <td>0.0</td>\n",
       "      <td>0.0</td>\n",
       "    </tr>\n",
       "  </tbody>\n",
       "</table>\n",
       "<p>10 rows × 1682 columns</p>\n",
       "</div>"
      ],
      "text/plain": [
       "item_id  1     2     3     4     5     6     7     8     9     10    ...   \\\n",
       "user_id                                                              ...    \n",
       "1         5.0   3.0   4.0   3.0   3.0   5.0   4.0   1.0   5.0   3.0  ...    \n",
       "2         4.0   0.0   0.0   0.0   0.0   0.0   0.0   0.0   0.0   2.0  ...    \n",
       "3         0.0   0.0   0.0   0.0   0.0   0.0   0.0   0.0   0.0   0.0  ...    \n",
       "4         0.0   0.0   0.0   0.0   0.0   0.0   0.0   0.0   0.0   0.0  ...    \n",
       "5         4.0   3.0   0.0   0.0   0.0   0.0   0.0   0.0   0.0   0.0  ...    \n",
       "6         4.0   0.0   0.0   0.0   0.0   0.0   2.0   4.0   4.0   0.0  ...    \n",
       "7         0.0   0.0   0.0   5.0   0.0   0.0   5.0   5.0   5.0   4.0  ...    \n",
       "8         0.0   0.0   0.0   0.0   0.0   0.0   3.0   0.0   0.0   0.0  ...    \n",
       "9         0.0   0.0   0.0   0.0   0.0   5.0   4.0   0.0   0.0   0.0  ...    \n",
       "10        4.0   0.0   0.0   4.0   0.0   0.0   4.0   0.0   4.0   0.0  ...    \n",
       "\n",
       "item_id  1673  1674  1675  1676  1677  1678  1679  1680  1681  1682  \n",
       "user_id                                                              \n",
       "1         0.0   0.0   0.0   0.0   0.0   0.0   0.0   0.0   0.0   0.0  \n",
       "2         0.0   0.0   0.0   0.0   0.0   0.0   0.0   0.0   0.0   0.0  \n",
       "3         0.0   0.0   0.0   0.0   0.0   0.0   0.0   0.0   0.0   0.0  \n",
       "4         0.0   0.0   0.0   0.0   0.0   0.0   0.0   0.0   0.0   0.0  \n",
       "5         0.0   0.0   0.0   0.0   0.0   0.0   0.0   0.0   0.0   0.0  \n",
       "6         0.0   0.0   0.0   0.0   0.0   0.0   0.0   0.0   0.0   0.0  \n",
       "7         0.0   0.0   0.0   0.0   0.0   0.0   0.0   0.0   0.0   0.0  \n",
       "8         0.0   0.0   0.0   0.0   0.0   0.0   0.0   0.0   0.0   0.0  \n",
       "9         0.0   0.0   0.0   0.0   0.0   0.0   0.0   0.0   0.0   0.0  \n",
       "10        0.0   0.0   0.0   0.0   0.0   0.0   0.0   0.0   0.0   0.0  \n",
       "\n",
       "[10 rows x 1682 columns]"
      ]
     },
     "execution_count": 11,
     "metadata": {},
     "output_type": "execute_result"
    }
   ],
   "source": [
    "ratings_ = df_movies.pivot(index = 'user_id', columns ='item_id', values = 'rating').fillna(0)\n",
    "ratings_.head(10)"
   ]
  },
  {
   "cell_type": "code",
   "execution_count": 12,
   "metadata": {
    "collapsed": false
   },
   "outputs": [
    {
     "data": {
      "text/plain": [
       "array([[ 5.,  3.,  4., ...,  0.,  0.,  0.],\n",
       "       [ 4.,  0.,  0., ...,  0.,  0.,  0.],\n",
       "       [ 0.,  0.,  0., ...,  0.,  0.,  0.],\n",
       "       ..., \n",
       "       [ 5.,  0.,  0., ...,  0.,  0.,  0.],\n",
       "       [ 0.,  0.,  0., ...,  0.,  0.,  0.],\n",
       "       [ 0.,  5.,  0., ...,  0.,  0.,  0.]])"
      ]
     },
     "execution_count": 12,
     "metadata": {},
     "output_type": "execute_result"
    }
   ],
   "source": [
    "ratings = ratings_.as_matrix()\n",
    "ratings"
   ]
  },
  {
   "cell_type": "code",
   "execution_count": 13,
   "metadata": {
    "collapsed": false
   },
   "outputs": [
    {
     "data": {
      "text/plain": [
       "(943L, 1682L)"
      ]
     },
     "execution_count": 13,
     "metadata": {},
     "output_type": "execute_result"
    }
   ],
   "source": [
    "ratings.shape"
   ]
  },
  {
   "cell_type": "code",
   "execution_count": 14,
   "metadata": {
    "collapsed": true
   },
   "outputs": [],
   "source": [
    "from sklearn.metrics.pairwise import pairwise_distances\n",
    "user_based_similarity = pairwise_distances(ratings, metric='cosine')\n",
    "item_based_similarity = pairwise_distances(ratings.T, metric='cosine')"
   ]
  },
  {
   "cell_type": "markdown",
   "metadata": {},
   "source": [
    "## Top 5 similar users for the user id 5"
   ]
  },
  {
   "cell_type": "code",
   "execution_count": 15,
   "metadata": {
    "collapsed": false
   },
   "outputs": [
    {
     "data": {
      "text/html": [
       "<div>\n",
       "<table border=\"1\" class=\"dataframe\">\n",
       "  <thead>\n",
       "    <tr style=\"text-align: right;\">\n",
       "      <th></th>\n",
       "      <th>0</th>\n",
       "      <th>1</th>\n",
       "      <th>2</th>\n",
       "      <th>3</th>\n",
       "      <th>4</th>\n",
       "      <th>5</th>\n",
       "      <th>6</th>\n",
       "      <th>7</th>\n",
       "      <th>8</th>\n",
       "      <th>9</th>\n",
       "      <th>...</th>\n",
       "      <th>933</th>\n",
       "      <th>934</th>\n",
       "      <th>935</th>\n",
       "      <th>936</th>\n",
       "      <th>937</th>\n",
       "      <th>938</th>\n",
       "      <th>939</th>\n",
       "      <th>940</th>\n",
       "      <th>941</th>\n",
       "      <th>942</th>\n",
       "    </tr>\n",
       "  </thead>\n",
       "  <tbody>\n",
       "    <tr>\n",
       "      <th>0</th>\n",
       "      <td>0.000000</td>\n",
       "      <td>0.833069</td>\n",
       "      <td>0.952540</td>\n",
       "      <td>0.935642</td>\n",
       "      <td>0.621525</td>\n",
       "      <td>0.569761</td>\n",
       "      <td>0.559633</td>\n",
       "      <td>0.680928</td>\n",
       "      <td>0.921862</td>\n",
       "      <td>0.623456</td>\n",
       "      <td>...</td>\n",
       "      <td>0.630473</td>\n",
       "      <td>0.880518</td>\n",
       "      <td>0.725124</td>\n",
       "      <td>0.810295</td>\n",
       "      <td>0.802674</td>\n",
       "      <td>0.881905</td>\n",
       "      <td>0.685928</td>\n",
       "      <td>0.851383</td>\n",
       "      <td>0.820492</td>\n",
       "      <td>0.601825</td>\n",
       "    </tr>\n",
       "    <tr>\n",
       "      <th>1</th>\n",
       "      <td>0.833069</td>\n",
       "      <td>0.000000</td>\n",
       "      <td>0.889409</td>\n",
       "      <td>0.821879</td>\n",
       "      <td>0.927021</td>\n",
       "      <td>0.754157</td>\n",
       "      <td>0.892672</td>\n",
       "      <td>0.896656</td>\n",
       "      <td>0.838952</td>\n",
       "      <td>0.840138</td>\n",
       "      <td>...</td>\n",
       "      <td>0.843014</td>\n",
       "      <td>0.692058</td>\n",
       "      <td>0.641211</td>\n",
       "      <td>0.575954</td>\n",
       "      <td>0.680111</td>\n",
       "      <td>0.771417</td>\n",
       "      <td>0.773210</td>\n",
       "      <td>0.838515</td>\n",
       "      <td>0.827732</td>\n",
       "      <td>0.894202</td>\n",
       "    </tr>\n",
       "    <tr>\n",
       "      <th>2</th>\n",
       "      <td>0.952540</td>\n",
       "      <td>0.889409</td>\n",
       "      <td>0.000000</td>\n",
       "      <td>0.655849</td>\n",
       "      <td>0.978755</td>\n",
       "      <td>0.927585</td>\n",
       "      <td>0.933863</td>\n",
       "      <td>0.916940</td>\n",
       "      <td>0.938960</td>\n",
       "      <td>0.934849</td>\n",
       "      <td>...</td>\n",
       "      <td>0.968125</td>\n",
       "      <td>0.957247</td>\n",
       "      <td>0.836171</td>\n",
       "      <td>0.930962</td>\n",
       "      <td>0.875755</td>\n",
       "      <td>0.973729</td>\n",
       "      <td>0.838110</td>\n",
       "      <td>0.898757</td>\n",
       "      <td>0.866584</td>\n",
       "      <td>0.973444</td>\n",
       "    </tr>\n",
       "    <tr>\n",
       "      <th>3</th>\n",
       "      <td>0.935642</td>\n",
       "      <td>0.821879</td>\n",
       "      <td>0.655849</td>\n",
       "      <td>0.000000</td>\n",
       "      <td>0.968196</td>\n",
       "      <td>0.931956</td>\n",
       "      <td>0.908770</td>\n",
       "      <td>0.811940</td>\n",
       "      <td>0.898716</td>\n",
       "      <td>0.939141</td>\n",
       "      <td>...</td>\n",
       "      <td>0.947893</td>\n",
       "      <td>0.963216</td>\n",
       "      <td>0.866885</td>\n",
       "      <td>0.806529</td>\n",
       "      <td>0.853942</td>\n",
       "      <td>0.969862</td>\n",
       "      <td>0.803142</td>\n",
       "      <td>0.847959</td>\n",
       "      <td>0.829914</td>\n",
       "      <td>0.941248</td>\n",
       "    </tr>\n",
       "    <tr>\n",
       "      <th>4</th>\n",
       "      <td>0.621525</td>\n",
       "      <td>0.927021</td>\n",
       "      <td>0.978755</td>\n",
       "      <td>0.968196</td>\n",
       "      <td>0.000000</td>\n",
       "      <td>0.762714</td>\n",
       "      <td>0.626400</td>\n",
       "      <td>0.751070</td>\n",
       "      <td>0.943153</td>\n",
       "      <td>0.798573</td>\n",
       "      <td>...</td>\n",
       "      <td>0.661206</td>\n",
       "      <td>0.919420</td>\n",
       "      <td>0.905076</td>\n",
       "      <td>0.920221</td>\n",
       "      <td>0.851393</td>\n",
       "      <td>0.928541</td>\n",
       "      <td>0.760045</td>\n",
       "      <td>0.860405</td>\n",
       "      <td>0.847503</td>\n",
       "      <td>0.686059</td>\n",
       "    </tr>\n",
       "  </tbody>\n",
       "</table>\n",
       "<p>5 rows × 943 columns</p>\n",
       "</div>"
      ],
      "text/plain": [
       "        0         1         2         3         4         5         6    \\\n",
       "0  0.000000  0.833069  0.952540  0.935642  0.621525  0.569761  0.559633   \n",
       "1  0.833069  0.000000  0.889409  0.821879  0.927021  0.754157  0.892672   \n",
       "2  0.952540  0.889409  0.000000  0.655849  0.978755  0.927585  0.933863   \n",
       "3  0.935642  0.821879  0.655849  0.000000  0.968196  0.931956  0.908770   \n",
       "4  0.621525  0.927021  0.978755  0.968196  0.000000  0.762714  0.626400   \n",
       "\n",
       "        7         8         9      ...          933       934       935  \\\n",
       "0  0.680928  0.921862  0.623456    ...     0.630473  0.880518  0.725124   \n",
       "1  0.896656  0.838952  0.840138    ...     0.843014  0.692058  0.641211   \n",
       "2  0.916940  0.938960  0.934849    ...     0.968125  0.957247  0.836171   \n",
       "3  0.811940  0.898716  0.939141    ...     0.947893  0.963216  0.866885   \n",
       "4  0.751070  0.943153  0.798573    ...     0.661206  0.919420  0.905076   \n",
       "\n",
       "        936       937       938       939       940       941       942  \n",
       "0  0.810295  0.802674  0.881905  0.685928  0.851383  0.820492  0.601825  \n",
       "1  0.575954  0.680111  0.771417  0.773210  0.838515  0.827732  0.894202  \n",
       "2  0.930962  0.875755  0.973729  0.838110  0.898757  0.866584  0.973444  \n",
       "3  0.806529  0.853942  0.969862  0.803142  0.847959  0.829914  0.941248  \n",
       "4  0.920221  0.851393  0.928541  0.760045  0.860405  0.847503  0.686059  \n",
       "\n",
       "[5 rows x 943 columns]"
      ]
     },
     "execution_count": 15,
     "metadata": {},
     "output_type": "execute_result"
    }
   ],
   "source": [
    "pd.DataFrame(user_based_similarity)[:5]"
   ]
  },
  {
   "cell_type": "code",
   "execution_count": 16,
   "metadata": {
    "collapsed": false
   },
   "outputs": [
    {
     "data": {
      "text/plain": [
       "655    1.0\n",
       "728    1.0\n",
       "712    1.0\n",
       "239    1.0\n",
       "110    1.0\n",
       "Name: 4, dtype: float64"
      ]
     },
     "execution_count": 16,
     "metadata": {},
     "output_type": "execute_result"
    }
   ],
   "source": [
    "pd.DataFrame(user_based_similarity).loc[4, pd.DataFrame(user_based_similarity).loc[4,:]>0].sort_values(ascending=False)[0:5]"
   ]
  },
  {
   "cell_type": "markdown",
   "metadata": {},
   "source": [
    "## Top 5 similar movies for the movie id 6"
   ]
  },
  {
   "cell_type": "code",
   "execution_count": 17,
   "metadata": {
    "collapsed": false
   },
   "outputs": [
    {
     "data": {
      "text/html": [
       "<div>\n",
       "<table border=\"1\" class=\"dataframe\">\n",
       "  <thead>\n",
       "    <tr style=\"text-align: right;\">\n",
       "      <th></th>\n",
       "      <th>0</th>\n",
       "      <th>1</th>\n",
       "      <th>2</th>\n",
       "      <th>3</th>\n",
       "      <th>4</th>\n",
       "      <th>5</th>\n",
       "      <th>6</th>\n",
       "      <th>7</th>\n",
       "      <th>8</th>\n",
       "      <th>9</th>\n",
       "      <th>...</th>\n",
       "      <th>1672</th>\n",
       "      <th>1673</th>\n",
       "      <th>1674</th>\n",
       "      <th>1675</th>\n",
       "      <th>1676</th>\n",
       "      <th>1677</th>\n",
       "      <th>1678</th>\n",
       "      <th>1679</th>\n",
       "      <th>1680</th>\n",
       "      <th>1681</th>\n",
       "    </tr>\n",
       "  </thead>\n",
       "  <tbody>\n",
       "    <tr>\n",
       "      <th>0</th>\n",
       "      <td>0.000000</td>\n",
       "      <td>0.597618</td>\n",
       "      <td>0.669755</td>\n",
       "      <td>0.545062</td>\n",
       "      <td>0.713286</td>\n",
       "      <td>0.883656</td>\n",
       "      <td>0.379021</td>\n",
       "      <td>0.518886</td>\n",
       "      <td>0.503712</td>\n",
       "      <td>0.726065</td>\n",
       "      <td>...</td>\n",
       "      <td>0.964613</td>\n",
       "      <td>1.0</td>\n",
       "      <td>1.000000</td>\n",
       "      <td>1.000000</td>\n",
       "      <td>0.964613</td>\n",
       "      <td>1.0</td>\n",
       "      <td>1.0</td>\n",
       "      <td>1.0</td>\n",
       "      <td>0.952817</td>\n",
       "      <td>0.952817</td>\n",
       "    </tr>\n",
       "    <tr>\n",
       "      <th>1</th>\n",
       "      <td>0.597618</td>\n",
       "      <td>0.000000</td>\n",
       "      <td>0.726931</td>\n",
       "      <td>0.497429</td>\n",
       "      <td>0.681164</td>\n",
       "      <td>0.916437</td>\n",
       "      <td>0.616597</td>\n",
       "      <td>0.662998</td>\n",
       "      <td>0.744748</td>\n",
       "      <td>0.828918</td>\n",
       "      <td>...</td>\n",
       "      <td>1.000000</td>\n",
       "      <td>1.0</td>\n",
       "      <td>1.000000</td>\n",
       "      <td>1.000000</td>\n",
       "      <td>1.000000</td>\n",
       "      <td>1.0</td>\n",
       "      <td>1.0</td>\n",
       "      <td>1.0</td>\n",
       "      <td>0.921701</td>\n",
       "      <td>0.921701</td>\n",
       "    </tr>\n",
       "    <tr>\n",
       "      <th>2</th>\n",
       "      <td>0.669755</td>\n",
       "      <td>0.726931</td>\n",
       "      <td>0.000000</td>\n",
       "      <td>0.675134</td>\n",
       "      <td>0.787043</td>\n",
       "      <td>0.893278</td>\n",
       "      <td>0.627079</td>\n",
       "      <td>0.799206</td>\n",
       "      <td>0.726331</td>\n",
       "      <td>0.841896</td>\n",
       "      <td>...</td>\n",
       "      <td>1.000000</td>\n",
       "      <td>1.0</td>\n",
       "      <td>1.000000</td>\n",
       "      <td>1.000000</td>\n",
       "      <td>0.967708</td>\n",
       "      <td>1.0</td>\n",
       "      <td>1.0</td>\n",
       "      <td>1.0</td>\n",
       "      <td>1.000000</td>\n",
       "      <td>0.903125</td>\n",
       "    </tr>\n",
       "    <tr>\n",
       "      <th>3</th>\n",
       "      <td>0.545062</td>\n",
       "      <td>0.497429</td>\n",
       "      <td>0.675134</td>\n",
       "      <td>0.000000</td>\n",
       "      <td>0.665761</td>\n",
       "      <td>0.909692</td>\n",
       "      <td>0.510717</td>\n",
       "      <td>0.509764</td>\n",
       "      <td>0.580956</td>\n",
       "      <td>0.747439</td>\n",
       "      <td>...</td>\n",
       "      <td>1.000000</td>\n",
       "      <td>1.0</td>\n",
       "      <td>0.905978</td>\n",
       "      <td>0.905978</td>\n",
       "      <td>0.962391</td>\n",
       "      <td>1.0</td>\n",
       "      <td>1.0</td>\n",
       "      <td>1.0</td>\n",
       "      <td>0.943587</td>\n",
       "      <td>0.924782</td>\n",
       "    </tr>\n",
       "    <tr>\n",
       "      <th>4</th>\n",
       "      <td>0.713286</td>\n",
       "      <td>0.681164</td>\n",
       "      <td>0.787043</td>\n",
       "      <td>0.665761</td>\n",
       "      <td>0.000000</td>\n",
       "      <td>0.962701</td>\n",
       "      <td>0.665231</td>\n",
       "      <td>0.740839</td>\n",
       "      <td>0.727552</td>\n",
       "      <td>0.944547</td>\n",
       "      <td>...</td>\n",
       "      <td>1.000000</td>\n",
       "      <td>1.0</td>\n",
       "      <td>1.000000</td>\n",
       "      <td>1.000000</td>\n",
       "      <td>1.000000</td>\n",
       "      <td>1.0</td>\n",
       "      <td>1.0</td>\n",
       "      <td>1.0</td>\n",
       "      <td>1.000000</td>\n",
       "      <td>0.905789</td>\n",
       "    </tr>\n",
       "  </tbody>\n",
       "</table>\n",
       "<p>5 rows × 1682 columns</p>\n",
       "</div>"
      ],
      "text/plain": [
       "       0         1         2         3         4         5         6     \\\n",
       "0  0.000000  0.597618  0.669755  0.545062  0.713286  0.883656  0.379021   \n",
       "1  0.597618  0.000000  0.726931  0.497429  0.681164  0.916437  0.616597   \n",
       "2  0.669755  0.726931  0.000000  0.675134  0.787043  0.893278  0.627079   \n",
       "3  0.545062  0.497429  0.675134  0.000000  0.665761  0.909692  0.510717   \n",
       "4  0.713286  0.681164  0.787043  0.665761  0.000000  0.962701  0.665231   \n",
       "\n",
       "       7         8         9       ...         1672  1673      1674      1675  \\\n",
       "0  0.518886  0.503712  0.726065    ...     0.964613   1.0  1.000000  1.000000   \n",
       "1  0.662998  0.744748  0.828918    ...     1.000000   1.0  1.000000  1.000000   \n",
       "2  0.799206  0.726331  0.841896    ...     1.000000   1.0  1.000000  1.000000   \n",
       "3  0.509764  0.580956  0.747439    ...     1.000000   1.0  0.905978  0.905978   \n",
       "4  0.740839  0.727552  0.944547    ...     1.000000   1.0  1.000000  1.000000   \n",
       "\n",
       "       1676  1677  1678  1679      1680      1681  \n",
       "0  0.964613   1.0   1.0   1.0  0.952817  0.952817  \n",
       "1  1.000000   1.0   1.0   1.0  0.921701  0.921701  \n",
       "2  0.967708   1.0   1.0   1.0  1.000000  0.903125  \n",
       "3  0.962391   1.0   1.0   1.0  0.943587  0.924782  \n",
       "4  1.000000   1.0   1.0   1.0  1.000000  0.905789  \n",
       "\n",
       "[5 rows x 1682 columns]"
      ]
     },
     "execution_count": 17,
     "metadata": {},
     "output_type": "execute_result"
    }
   ],
   "source": [
    "pd.DataFrame(item_based_similarity)[:5]"
   ]
  },
  {
   "cell_type": "code",
   "execution_count": 18,
   "metadata": {
    "collapsed": false
   },
   "outputs": [
    {
     "data": {
      "text/plain": [
       "1681    1.0\n",
       "1188    1.0\n",
       "1144    1.0\n",
       "1145    1.0\n",
       "1147    1.0\n",
       "Name: 5, dtype: float64"
      ]
     },
     "execution_count": 18,
     "metadata": {},
     "output_type": "execute_result"
    }
   ],
   "source": [
    "pd.DataFrame(item_based_similarity).loc[5, pd.DataFrame(item_based_similarity).loc[5,:]>0].sort_values(ascending=False)[0:5]"
   ]
  },
  {
   "cell_type": "code",
   "execution_count": 19,
   "metadata": {
    "collapsed": false
   },
   "outputs": [],
   "source": [
    "def item_based_pred(rating_mat, sim_mat):\n",
    "    pred = rating_mat.dot(sim_mat) / np.array([np.abs(sim_mat).sum(axis=1)])\n",
    "    return pred"
   ]
  },
  {
   "cell_type": "code",
   "execution_count": 20,
   "metadata": {
    "collapsed": true
   },
   "outputs": [],
   "source": [
    "def user_based_pred(rating_mat, sim_mat):\n",
    "    mean_user_rating = rating_mat.mean(axis=1)\n",
    "    ratings_diff = (rating_mat - mean_user_rating[:, np.newaxis])\n",
    "    return mean_user_rating[:, np.newaxis] + sim_mat.dot(ratings_diff) / np.array([np.abs(sim_mat).sum(axis=1)]).T"
   ]
  },
  {
   "cell_type": "code",
   "execution_count": 21,
   "metadata": {
    "collapsed": false
   },
   "outputs": [],
   "source": [
    "item_based_prediction = item_based_pred(ratings, item_based_similarity)\n",
    "user_based_prediction = user_based_pred(ratings, user_based_similarity)"
   ]
  },
  {
   "cell_type": "code",
   "execution_count": 24,
   "metadata": {
    "collapsed": false
   },
   "outputs": [
    {
     "data": {
      "text/html": [
       "<div>\n",
       "<table border=\"1\" class=\"dataframe\">\n",
       "  <thead>\n",
       "    <tr style=\"text-align: right;\">\n",
       "      <th></th>\n",
       "      <th>0</th>\n",
       "      <th>1</th>\n",
       "      <th>2</th>\n",
       "      <th>3</th>\n",
       "      <th>4</th>\n",
       "      <th>5</th>\n",
       "      <th>6</th>\n",
       "      <th>7</th>\n",
       "      <th>8</th>\n",
       "      <th>9</th>\n",
       "      <th>...</th>\n",
       "      <th>1672</th>\n",
       "      <th>1673</th>\n",
       "      <th>1674</th>\n",
       "      <th>1675</th>\n",
       "      <th>1676</th>\n",
       "      <th>1677</th>\n",
       "      <th>1678</th>\n",
       "      <th>1679</th>\n",
       "      <th>1680</th>\n",
       "      <th>1681</th>\n",
       "    </tr>\n",
       "  </thead>\n",
       "  <tbody>\n",
       "    <tr>\n",
       "      <th>0</th>\n",
       "      <td>2.065326</td>\n",
       "      <td>0.734303</td>\n",
       "      <td>0.629924</td>\n",
       "      <td>1.010669</td>\n",
       "      <td>0.640686</td>\n",
       "      <td>0.476150</td>\n",
       "      <td>1.784569</td>\n",
       "      <td>1.163032</td>\n",
       "      <td>1.513350</td>\n",
       "      <td>0.704478</td>\n",
       "      <td>...</td>\n",
       "      <td>0.394041</td>\n",
       "      <td>0.394434</td>\n",
       "      <td>0.393981</td>\n",
       "      <td>0.392972</td>\n",
       "      <td>0.393344</td>\n",
       "      <td>0.392272</td>\n",
       "      <td>0.394909</td>\n",
       "      <td>0.393590</td>\n",
       "      <td>0.393049</td>\n",
       "      <td>0.392771</td>\n",
       "    </tr>\n",
       "    <tr>\n",
       "      <th>1</th>\n",
       "      <td>1.763088</td>\n",
       "      <td>0.384040</td>\n",
       "      <td>0.196179</td>\n",
       "      <td>0.731538</td>\n",
       "      <td>0.225643</td>\n",
       "      <td>0.003892</td>\n",
       "      <td>1.493597</td>\n",
       "      <td>0.876153</td>\n",
       "      <td>1.108467</td>\n",
       "      <td>0.261991</td>\n",
       "      <td>...</td>\n",
       "      <td>-0.086942</td>\n",
       "      <td>-0.085491</td>\n",
       "      <td>-0.087137</td>\n",
       "      <td>-0.088158</td>\n",
       "      <td>-0.087298</td>\n",
       "      <td>-0.089288</td>\n",
       "      <td>-0.087468</td>\n",
       "      <td>-0.088378</td>\n",
       "      <td>-0.086918</td>\n",
       "      <td>-0.086712</td>\n",
       "    </tr>\n",
       "    <tr>\n",
       "      <th>2</th>\n",
       "      <td>1.795904</td>\n",
       "      <td>0.329047</td>\n",
       "      <td>0.158829</td>\n",
       "      <td>0.684154</td>\n",
       "      <td>0.173277</td>\n",
       "      <td>-0.035621</td>\n",
       "      <td>1.488230</td>\n",
       "      <td>0.835769</td>\n",
       "      <td>1.135426</td>\n",
       "      <td>0.236383</td>\n",
       "      <td>...</td>\n",
       "      <td>-0.134795</td>\n",
       "      <td>-0.133537</td>\n",
       "      <td>-0.135543</td>\n",
       "      <td>-0.136438</td>\n",
       "      <td>-0.135041</td>\n",
       "      <td>-0.137611</td>\n",
       "      <td>-0.136374</td>\n",
       "      <td>-0.136992</td>\n",
       "      <td>-0.134969</td>\n",
       "      <td>-0.134765</td>\n",
       "    </tr>\n",
       "    <tr>\n",
       "      <th>3</th>\n",
       "      <td>1.729951</td>\n",
       "      <td>0.293913</td>\n",
       "      <td>0.127741</td>\n",
       "      <td>0.644932</td>\n",
       "      <td>0.142143</td>\n",
       "      <td>-0.062261</td>\n",
       "      <td>1.437010</td>\n",
       "      <td>0.796249</td>\n",
       "      <td>1.096663</td>\n",
       "      <td>0.211789</td>\n",
       "      <td>...</td>\n",
       "      <td>-0.161413</td>\n",
       "      <td>-0.160220</td>\n",
       "      <td>-0.161542</td>\n",
       "      <td>-0.162586</td>\n",
       "      <td>-0.161634</td>\n",
       "      <td>-0.163877</td>\n",
       "      <td>-0.162283</td>\n",
       "      <td>-0.163080</td>\n",
       "      <td>-0.161442</td>\n",
       "      <td>-0.161248</td>\n",
       "    </tr>\n",
       "    <tr>\n",
       "      <th>4</th>\n",
       "      <td>1.796651</td>\n",
       "      <td>0.454474</td>\n",
       "      <td>0.354422</td>\n",
       "      <td>0.763130</td>\n",
       "      <td>0.359539</td>\n",
       "      <td>0.195987</td>\n",
       "      <td>1.547370</td>\n",
       "      <td>0.908904</td>\n",
       "      <td>1.292027</td>\n",
       "      <td>0.437954</td>\n",
       "      <td>...</td>\n",
       "      <td>0.101762</td>\n",
       "      <td>0.102405</td>\n",
       "      <td>0.101923</td>\n",
       "      <td>0.100839</td>\n",
       "      <td>0.101711</td>\n",
       "      <td>0.099951</td>\n",
       "      <td>0.102515</td>\n",
       "      <td>0.101233</td>\n",
       "      <td>0.101075</td>\n",
       "      <td>0.101201</td>\n",
       "    </tr>\n",
       "  </tbody>\n",
       "</table>\n",
       "<p>5 rows × 1682 columns</p>\n",
       "</div>"
      ],
      "text/plain": [
       "       0         1         2         3         4         5         6     \\\n",
       "0  2.065326  0.734303  0.629924  1.010669  0.640686  0.476150  1.784569   \n",
       "1  1.763088  0.384040  0.196179  0.731538  0.225643  0.003892  1.493597   \n",
       "2  1.795904  0.329047  0.158829  0.684154  0.173277 -0.035621  1.488230   \n",
       "3  1.729951  0.293913  0.127741  0.644932  0.142143 -0.062261  1.437010   \n",
       "4  1.796651  0.454474  0.354422  0.763130  0.359539  0.195987  1.547370   \n",
       "\n",
       "       7         8         9       ...         1672      1673      1674  \\\n",
       "0  1.163032  1.513350  0.704478    ...     0.394041  0.394434  0.393981   \n",
       "1  0.876153  1.108467  0.261991    ...    -0.086942 -0.085491 -0.087137   \n",
       "2  0.835769  1.135426  0.236383    ...    -0.134795 -0.133537 -0.135543   \n",
       "3  0.796249  1.096663  0.211789    ...    -0.161413 -0.160220 -0.161542   \n",
       "4  0.908904  1.292027  0.437954    ...     0.101762  0.102405  0.101923   \n",
       "\n",
       "       1675      1676      1677      1678      1679      1680      1681  \n",
       "0  0.392972  0.393344  0.392272  0.394909  0.393590  0.393049  0.392771  \n",
       "1 -0.088158 -0.087298 -0.089288 -0.087468 -0.088378 -0.086918 -0.086712  \n",
       "2 -0.136438 -0.135041 -0.137611 -0.136374 -0.136992 -0.134969 -0.134765  \n",
       "3 -0.162586 -0.161634 -0.163877 -0.162283 -0.163080 -0.161442 -0.161248  \n",
       "4  0.100839  0.101711  0.099951  0.102515  0.101233  0.101075  0.101201  \n",
       "\n",
       "[5 rows x 1682 columns]"
      ]
     },
     "execution_count": 24,
     "metadata": {},
     "output_type": "execute_result"
    }
   ],
   "source": [
    "user_based = pd.DataFrame(user_based_prediction)\n",
    "user_based[:5]"
   ]
  },
  {
   "cell_type": "code",
   "execution_count": 25,
   "metadata": {
    "collapsed": true
   },
   "outputs": [],
   "source": [
    "predictions = user_based.loc[6,pd.DataFrame(ratings).loc[6,:] == 0]"
   ]
  },
  {
   "cell_type": "code",
   "execution_count": 26,
   "metadata": {
    "collapsed": true
   },
   "outputs": [],
   "source": [
    "top_values = predictions.sort_values(ascending=False).head(n=3)"
   ]
  },
  {
   "cell_type": "code",
   "execution_count": 27,
   "metadata": {
    "collapsed": false
   },
   "outputs": [
    {
     "name": "stdout",
     "output_type": "stream",
     "text": [
      "     Predicted Rating\n",
      "0            2.466055\n",
      "312          2.376066\n",
      "116          2.133161\n"
     ]
    }
   ],
   "source": [
    "recommendations = pd.DataFrame(data=top_values)\n",
    "recommendations.columns = ['Predicted Rating']\n",
    "print(recommendations)"
   ]
  },
  {
   "cell_type": "code",
   "execution_count": 32,
   "metadata": {
    "collapsed": false
   },
   "outputs": [
    {
     "data": {
      "text/html": [
       "<div>\n",
       "<table border=\"1\" class=\"dataframe\">\n",
       "  <thead>\n",
       "    <tr style=\"text-align: right;\">\n",
       "      <th></th>\n",
       "      <th>0</th>\n",
       "      <th>1</th>\n",
       "      <th>2</th>\n",
       "      <th>3</th>\n",
       "      <th>4</th>\n",
       "      <th>5</th>\n",
       "      <th>6</th>\n",
       "      <th>7</th>\n",
       "      <th>8</th>\n",
       "      <th>9</th>\n",
       "      <th>...</th>\n",
       "      <th>1672</th>\n",
       "      <th>1673</th>\n",
       "      <th>1674</th>\n",
       "      <th>1675</th>\n",
       "      <th>1676</th>\n",
       "      <th>1677</th>\n",
       "      <th>1678</th>\n",
       "      <th>1679</th>\n",
       "      <th>1680</th>\n",
       "      <th>1681</th>\n",
       "    </tr>\n",
       "  </thead>\n",
       "  <tbody>\n",
       "    <tr>\n",
       "      <th>0</th>\n",
       "      <td>0.446278</td>\n",
       "      <td>0.475473</td>\n",
       "      <td>0.505938</td>\n",
       "      <td>0.443633</td>\n",
       "      <td>0.512667</td>\n",
       "      <td>0.547939</td>\n",
       "      <td>0.446243</td>\n",
       "      <td>0.463059</td>\n",
       "      <td>0.474916</td>\n",
       "      <td>0.515821</td>\n",
       "      <td>...</td>\n",
       "      <td>0.580579</td>\n",
       "      <td>0.576202</td>\n",
       "      <td>0.582478</td>\n",
       "      <td>0.582478</td>\n",
       "      <td>0.575717</td>\n",
       "      <td>0.588155</td>\n",
       "      <td>0.588155</td>\n",
       "      <td>0.588155</td>\n",
       "      <td>0.573107</td>\n",
       "      <td>0.566696</td>\n",
       "    </tr>\n",
       "    <tr>\n",
       "      <th>1</th>\n",
       "      <td>0.108544</td>\n",
       "      <td>0.132957</td>\n",
       "      <td>0.125589</td>\n",
       "      <td>0.124932</td>\n",
       "      <td>0.131178</td>\n",
       "      <td>0.129005</td>\n",
       "      <td>0.110883</td>\n",
       "      <td>0.122223</td>\n",
       "      <td>0.109599</td>\n",
       "      <td>0.121525</td>\n",
       "      <td>...</td>\n",
       "      <td>0.135490</td>\n",
       "      <td>0.136546</td>\n",
       "      <td>0.134829</td>\n",
       "      <td>0.134829</td>\n",
       "      <td>0.134108</td>\n",
       "      <td>0.134458</td>\n",
       "      <td>0.134458</td>\n",
       "      <td>0.134458</td>\n",
       "      <td>0.136576</td>\n",
       "      <td>0.137111</td>\n",
       "    </tr>\n",
       "    <tr>\n",
       "      <th>2</th>\n",
       "      <td>0.085685</td>\n",
       "      <td>0.091690</td>\n",
       "      <td>0.087643</td>\n",
       "      <td>0.089966</td>\n",
       "      <td>0.089658</td>\n",
       "      <td>0.089985</td>\n",
       "      <td>0.083492</td>\n",
       "      <td>0.089725</td>\n",
       "      <td>0.085188</td>\n",
       "      <td>0.088331</td>\n",
       "      <td>...</td>\n",
       "      <td>0.089770</td>\n",
       "      <td>0.090506</td>\n",
       "      <td>0.086261</td>\n",
       "      <td>0.086261</td>\n",
       "      <td>0.089201</td>\n",
       "      <td>0.084659</td>\n",
       "      <td>0.084659</td>\n",
       "      <td>0.084659</td>\n",
       "      <td>0.089768</td>\n",
       "      <td>0.090845</td>\n",
       "    </tr>\n",
       "    <tr>\n",
       "      <th>3</th>\n",
       "      <td>0.053693</td>\n",
       "      <td>0.059604</td>\n",
       "      <td>0.058114</td>\n",
       "      <td>0.058364</td>\n",
       "      <td>0.059356</td>\n",
       "      <td>0.061472</td>\n",
       "      <td>0.053374</td>\n",
       "      <td>0.058615</td>\n",
       "      <td>0.055905</td>\n",
       "      <td>0.060601</td>\n",
       "      <td>...</td>\n",
       "      <td>0.061349</td>\n",
       "      <td>0.061686</td>\n",
       "      <td>0.061195</td>\n",
       "      <td>0.061195</td>\n",
       "      <td>0.060693</td>\n",
       "      <td>0.057937</td>\n",
       "      <td>0.057937</td>\n",
       "      <td>0.057937</td>\n",
       "      <td>0.061673</td>\n",
       "      <td>0.062281</td>\n",
       "    </tr>\n",
       "    <tr>\n",
       "      <th>4</th>\n",
       "      <td>0.224739</td>\n",
       "      <td>0.229171</td>\n",
       "      <td>0.263280</td>\n",
       "      <td>0.226387</td>\n",
       "      <td>0.259973</td>\n",
       "      <td>0.296529</td>\n",
       "      <td>0.232710</td>\n",
       "      <td>0.237109</td>\n",
       "      <td>0.258581</td>\n",
       "      <td>0.275076</td>\n",
       "      <td>...</td>\n",
       "      <td>0.297628</td>\n",
       "      <td>0.295990</td>\n",
       "      <td>0.299922</td>\n",
       "      <td>0.299922</td>\n",
       "      <td>0.298188</td>\n",
       "      <td>0.302051</td>\n",
       "      <td>0.302051</td>\n",
       "      <td>0.302051</td>\n",
       "      <td>0.293373</td>\n",
       "      <td>0.294309</td>\n",
       "    </tr>\n",
       "  </tbody>\n",
       "</table>\n",
       "<p>5 rows × 1682 columns</p>\n",
       "</div>"
      ],
      "text/plain": [
       "       0         1         2         3         4         5         6     \\\n",
       "0  0.446278  0.475473  0.505938  0.443633  0.512667  0.547939  0.446243   \n",
       "1  0.108544  0.132957  0.125589  0.124932  0.131178  0.129005  0.110883   \n",
       "2  0.085685  0.091690  0.087643  0.089966  0.089658  0.089985  0.083492   \n",
       "3  0.053693  0.059604  0.058114  0.058364  0.059356  0.061472  0.053374   \n",
       "4  0.224739  0.229171  0.263280  0.226387  0.259973  0.296529  0.232710   \n",
       "\n",
       "       7         8         9       ...         1672      1673      1674  \\\n",
       "0  0.463059  0.474916  0.515821    ...     0.580579  0.576202  0.582478   \n",
       "1  0.122223  0.109599  0.121525    ...     0.135490  0.136546  0.134829   \n",
       "2  0.089725  0.085188  0.088331    ...     0.089770  0.090506  0.086261   \n",
       "3  0.058615  0.055905  0.060601    ...     0.061349  0.061686  0.061195   \n",
       "4  0.237109  0.258581  0.275076    ...     0.297628  0.295990  0.299922   \n",
       "\n",
       "       1675      1676      1677      1678      1679      1680      1681  \n",
       "0  0.582478  0.575717  0.588155  0.588155  0.588155  0.573107  0.566696  \n",
       "1  0.134829  0.134108  0.134458  0.134458  0.134458  0.136576  0.137111  \n",
       "2  0.086261  0.089201  0.084659  0.084659  0.084659  0.089768  0.090845  \n",
       "3  0.061195  0.060693  0.057937  0.057937  0.057937  0.061673  0.062281  \n",
       "4  0.299922  0.298188  0.302051  0.302051  0.302051  0.293373  0.294309  \n",
       "\n",
       "[5 rows x 1682 columns]"
      ]
     },
     "execution_count": 32,
     "metadata": {},
     "output_type": "execute_result"
    }
   ],
   "source": [
    "item_based = pd.DataFrame(item_based_prediction)\n",
    "item_based[:5]"
   ]
  },
  {
   "cell_type": "code",
   "execution_count": 29,
   "metadata": {
    "collapsed": false
   },
   "outputs": [],
   "source": [
    "predictions_ = item_based.loc[6,pd.DataFrame(ratings).loc[6,:] == 0]"
   ]
  },
  {
   "cell_type": "code",
   "execution_count": 30,
   "metadata": {
    "collapsed": true
   },
   "outputs": [],
   "source": [
    "top_values_ = predictions_.sort_values(ascending=False).head(n=3)"
   ]
  },
  {
   "cell_type": "code",
   "execution_count": 31,
   "metadata": {
    "collapsed": false
   },
   "outputs": [
    {
     "name": "stdout",
     "output_type": "stream",
     "text": [
      "     Predicted Rating\n",
      "0            2.466055\n",
      "312          2.376066\n",
      "116          2.133161\n"
     ]
    }
   ],
   "source": [
    "recommendations_ = pd.DataFrame(data=top_values_)\n",
    "recommendations_.columns = ['Predicted Rating']\n",
    "print(recommendations)"
   ]
  },
  {
   "cell_type": "markdown",
   "metadata": {},
   "source": [
    "## Calculating Metrics (RMSE):"
   ]
  },
  {
   "cell_type": "code",
   "execution_count": 33,
   "metadata": {
    "collapsed": true
   },
   "outputs": [],
   "source": [
    "from sklearn.metrics import mean_squared_error\n",
    "from math import sqrt"
   ]
  },
  {
   "cell_type": "code",
   "execution_count": 34,
   "metadata": {
    "collapsed": false
   },
   "outputs": [],
   "source": [
    "def rmse(pred,actual):\n",
    "    prediction = pred[actual.nonzero()].flatten()\n",
    "    actual = actual[actual.nonzero()].flatten()\n",
    "    return sqrt(mean_squared_error(prediction, actual))"
   ]
  },
  {
   "cell_type": "code",
   "execution_count": 36,
   "metadata": {
    "collapsed": false
   },
   "outputs": [
    {
     "name": "stdout",
     "output_type": "stream",
     "text": [
      "User-based CF RMSE:2.963475329\n"
     ]
    }
   ],
   "source": [
    "print('User-based CF RMSE:' + str(rmse(user_based_prediction, ratings)))"
   ]
  },
  {
   "cell_type": "code",
   "execution_count": 35,
   "metadata": {
    "collapsed": false
   },
   "outputs": [
    {
     "name": "stdout",
     "output_type": "stream",
     "text": [
      "Item-based CF RMSE:3.39214386174\n"
     ]
    }
   ],
   "source": [
    "print('Item-based CF RMSE:' + str(rmse(item_based_prediction, ratings)))"
   ]
  },
  {
   "cell_type": "markdown",
   "metadata": {},
   "source": [
    "## Reference:\n",
    "\n",
    "http://scikit-learn.org/stable/modules/generated/sklearn.metrics.pairwise.pairwise_distances.html"
   ]
  }
 ],
 "metadata": {
  "kernelspec": {
   "display_name": "Python [conda root]",
   "language": "python",
   "name": "conda-root-py"
  },
  "language_info": {
   "codemirror_mode": {
    "name": "ipython",
    "version": 2
   },
   "file_extension": ".py",
   "mimetype": "text/x-python",
   "name": "python",
   "nbconvert_exporter": "python",
   "pygments_lexer": "ipython2",
   "version": "2.7.13"
  }
 },
 "nbformat": 4,
 "nbformat_minor": 2
}
