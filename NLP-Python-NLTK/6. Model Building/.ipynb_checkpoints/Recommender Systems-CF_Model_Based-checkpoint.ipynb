{
 "cells": [
  {
   "cell_type": "markdown",
   "metadata": {},
   "source": [
    "<img src=\"../Pics/MLSb-T.png\" width=\"160\">\n",
    "<br><br>\n",
    "<center><u><H1>Collaborative Filtering: Model Based</H1></u></center>"
   ]
  },
  {
   "cell_type": "code",
   "execution_count": null,
   "metadata": {
    "collapsed": true
   },
   "outputs": [],
   "source": [
    "import pandas as pd\n",
    "import numpy as np"
   ]
  },
  {
   "cell_type": "code",
   "execution_count": null,
   "metadata": {},
   "outputs": [],
   "source": [
    "header = ['user_id', 'movie_id', 'rating', 'timestamp']\n",
    "df_ratings = pd.read_csv('../Data/ml-100k/u.data', sep='\\t', names=header)\n",
    "df_ratings.head()"
   ]
  },
  {
   "cell_type": "code",
   "execution_count": null,
   "metadata": {},
   "outputs": [],
   "source": [
    "user_data = df_ratings[df_ratings.user_id == 2]\n",
    "user_data.head()"
   ]
  },
  {
   "cell_type": "code",
   "execution_count": null,
   "metadata": {},
   "outputs": [],
   "source": [
    "print ('User has already rated {0} movies.'.format(user_data.shape[0]))"
   ]
  },
  {
   "cell_type": "code",
   "execution_count": null,
   "metadata": {},
   "outputs": [],
   "source": [
    "header = ['movie_id','movie title','release date','video release date', 'IMDb URL'\n",
    "          ,'unknown','Action','Adventure','Animation',\n",
    "              'Childrens','Comedy','Crime','Documentary','Drama','Fantasy',\n",
    "          'Film-Noir','Horror','Musical','Mystery','Romance','Sci-Fi',\n",
    "          'Thriller','War','Western']\n",
    "names = ['movie id','movie title']\n",
    "df_movies = pd.read_csv('../Data/ml-100k/u.item', sep='|',names=header)\n",
    "df_movies.head()"
   ]
  },
  {
   "cell_type": "code",
   "execution_count": null,
   "metadata": {},
   "outputs": [],
   "source": [
    "cols = ['movie_id', 'title']\n",
    "movies = pd.read_csv('../Data/ml-100k/u.item', sep='|', names=cols, usecols=range(2), encoding='latin-1')\n",
    "ratings = pd.merge(movies, df_ratings).sort_values(['rating'], ascending=False)\n",
    "ratings.head()"
   ]
  },
  {
   "cell_type": "code",
   "execution_count": null,
   "metadata": {},
   "outputs": [],
   "source": [
    "matrix_ = df_ratings.pivot(index = 'user_id', columns ='movie_id', values = 'rating').fillna(0)\n",
    "matrix_.head(5)"
   ]
  },
  {
   "cell_type": "markdown",
   "metadata": {},
   "source": [
    "## Matrix Factorization:"
   ]
  },
  {
   "cell_type": "code",
   "execution_count": null,
   "metadata": {},
   "outputs": [],
   "source": [
    "# Example:\n",
    "myMatrix = np.matrix(np.random.random((5,5)))*5\n",
    "myMatrix"
   ]
  },
  {
   "cell_type": "code",
   "execution_count": null,
   "metadata": {},
   "outputs": [],
   "source": [
    "from scipy.sparse.linalg import svds\n",
    "u1, s1, vt1 = svds(myMatrix, k = 4)\n",
    "s_diag=np.diag(s1)\n",
    "pred = np.dot(np.dot(u1, s_diag), vt1)\n",
    "df_pred = pd.DataFrame(pred)\n",
    "df_pred"
   ]
  },
  {
   "cell_type": "code",
   "execution_count": null,
   "metadata": {
    "collapsed": true
   },
   "outputs": [],
   "source": [
    "matrix = matrix_.as_matrix()"
   ]
  },
  {
   "cell_type": "code",
   "execution_count": null,
   "metadata": {},
   "outputs": [],
   "source": [
    "#get SVD components from train matrix. Choose k.\n",
    "u, s, vt = svds(matrix, k = 500)\n",
    "s_diag_matrix=np.diag(s)\n",
    "all_user_pred_ratings = np.dot(np.dot(u, s_diag_matrix), vt)\n",
    "df_predictions = pd.DataFrame(all_user_pred_ratings, columns=matrix_.columns)\n",
    "df_predictions.head()"
   ]
  },
  {
   "cell_type": "markdown",
   "metadata": {},
   "source": [
    "## Top 20 movies predictions for a user"
   ]
  },
  {
   "cell_type": "code",
   "execution_count": null,
   "metadata": {},
   "outputs": [],
   "source": [
    "sorted_user_predictions = df_predictions.iloc[1].sort_values(ascending=False)\n",
    "sorted_user_predictions[:20]"
   ]
  },
  {
   "cell_type": "markdown",
   "metadata": {},
   "source": [
    "## Calculating Metrics (RMSE):"
   ]
  },
  {
   "cell_type": "code",
   "execution_count": null,
   "metadata": {
    "collapsed": true
   },
   "outputs": [],
   "source": [
    "from sklearn.metrics import mean_squared_error\n",
    "from math import sqrt"
   ]
  },
  {
   "cell_type": "code",
   "execution_count": null,
   "metadata": {
    "collapsed": true
   },
   "outputs": [],
   "source": [
    "def rmse(pred,actual):\n",
    "    prediction = pred[actual.nonzero()].flatten()\n",
    "    actual = actual[actual.nonzero()].flatten()\n",
    "    return sqrt(mean_squared_error(prediction, actual))"
   ]
  },
  {
   "cell_type": "code",
   "execution_count": null,
   "metadata": {
    "collapsed": true
   },
   "outputs": [],
   "source": [
    "pred_ratings = np.dot(np.dot(u, s_diag_matrix), vt)"
   ]
  },
  {
   "cell_type": "code",
   "execution_count": null,
   "metadata": {},
   "outputs": [],
   "source": [
    "print 'User-based CF MSE: ' + str(rmse(pred_ratings, matrix))"
   ]
  },
  {
   "cell_type": "markdown",
   "metadata": {},
   "source": [
    "## Sparsity level:\n",
    "\n",
    "### Sparsity describes the percentage of cells in a database table that are not populated."
   ]
  },
  {
   "cell_type": "code",
   "execution_count": null,
   "metadata": {
    "collapsed": true
   },
   "outputs": [],
   "source": [
    "n_users = df_ratings.user_id.unique().shape[0]\n",
    "n_items = df_ratings.movie_id.unique().shape[0]"
   ]
  },
  {
   "cell_type": "code",
   "execution_count": null,
   "metadata": {},
   "outputs": [],
   "source": [
    "sparsity=round(1.0-len(df_ratings)/float(n_users*n_items),3)\n",
    "print('The sparsity level is:' + str(sparsity*100)+'%')"
   ]
  },
  {
   "cell_type": "markdown",
   "metadata": {},
   "source": [
    "## References:\n",
    "\n",
    "https://docs.scipy.org/doc/scipy-0.19.1/reference/generated/scipy.sparse.linalg.svds.html\n",
    "\n",
    "https://grouplens.org/datasets/movielens/latest/"
   ]
  }
 ],
 "metadata": {
  "kernelspec": {
   "display_name": "Python [conda root]",
   "language": "python",
   "name": "conda-root-py"
  },
  "language_info": {
   "codemirror_mode": {
    "name": "ipython",
    "version": 2
   },
   "file_extension": ".py",
   "mimetype": "text/x-python",
   "name": "python",
   "nbconvert_exporter": "python",
   "pygments_lexer": "ipython2",
   "version": "2.7.13"
  }
 },
 "nbformat": 4,
 "nbformat_minor": 2
}
